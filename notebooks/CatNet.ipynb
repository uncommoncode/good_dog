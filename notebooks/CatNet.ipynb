{
 "cells": [
  {
   "cell_type": "markdown",
   "metadata": {},
   "source": [
    "# Goal\n",
    "\n",
    "Create a network that detects cats.\n",
    "\n",
    "# Load Data\n",
    "\n",
    "Data comes from [Dogs vs Cats](https://www.kaggle.com/c/dogs-vs-cats/data) dataset.\n",
    "\n",
    "![Cuter than a cat](https://kaggle2.blob.core.windows.net/competitions/kaggle/3362/media/please_dont_cheat.jpg)"
   ]
  },
  {
   "cell_type": "code",
   "execution_count": 1,
   "metadata": {},
   "outputs": [],
   "source": [
    "from good_dog import data\n",
    "# TODO(emmett): best to have this in a python helper"
   ]
  },
  {
   "cell_type": "markdown",
   "metadata": {},
   "source": [
    "# Define Network\n",
    "\n",
    "To be sample efficient and generalize well, start with a [VGG16 Network](http://www.robots.ox.ac.uk/~vgg/research/very_deep/) trained on the large [ImageNet](http://www.image-net.org/) dataset. It has cats and dogs as part of its training distribution so it likely already has a good grasp of the features essential in detecting a cat."
   ]
  },
  {
   "cell_type": "code",
   "execution_count": null,
   "metadata": {
    "collapsed": true
   },
   "outputs": [],
   "source": [
    "# TODO(emmett): good to put reusable components in a python helper"
   ]
  },
  {
   "cell_type": "markdown",
   "metadata": {},
   "source": [
    "# Validate Model\n",
    "\n",
    "Check our performance on cats vs dogs."
   ]
  },
  {
   "cell_type": "code",
   "execution_count": null,
   "metadata": {
    "collapsed": true
   },
   "outputs": [],
   "source": [
    "# TODO: show confusion matrix/AUC"
   ]
  },
  {
   "cell_type": "markdown",
   "metadata": {},
   "source": [
    "# Visualize Model\n",
    "Show neurons that activate highly in GAP layer."
   ]
  },
  {
   "cell_type": "code",
   "execution_count": null,
   "metadata": {
    "collapsed": true
   },
   "outputs": [],
   "source": [
    "# TODO: show heatmap for a few pictures"
   ]
  }
 ],
 "metadata": {
  "kernelspec": {
   "display_name": "Python 2",
   "language": "python",
   "name": "python2"
  },
  "language_info": {
   "codemirror_mode": {
    "name": "ipython",
    "version": 2
   },
   "file_extension": ".py",
   "mimetype": "text/x-python",
   "name": "python",
   "nbconvert_exporter": "python",
   "pygments_lexer": "ipython2",
   "version": "2.7.12"
  }
 },
 "nbformat": 4,
 "nbformat_minor": 2
}
